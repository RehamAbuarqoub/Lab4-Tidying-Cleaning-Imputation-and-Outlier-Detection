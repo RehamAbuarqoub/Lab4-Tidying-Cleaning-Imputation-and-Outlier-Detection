{
 "cells": [
  {
   "attachments": {},
   "cell_type": "markdown",
   "metadata": {},
   "source": [
    "# **Tidying**"
   ]
  },
  {
   "attachments": {},
   "cell_type": "markdown",
   "metadata": {},
   "source": [
    "Part of the data engineering process is data cleaning and tidying. What is done in those two processes, is trying to make the data more readable, and complete. This makes much easier to analyze, visualize, and train the data.\n"
   ]
  },
  {
   "attachments": {},
   "cell_type": "markdown",
   "metadata": {},
   "source": [
    "## **Data Tidying**\n",
    "\n",
    "Making the data more organized, and readable is the result of applying data tidying. \n",
    "\n",
    "In this section two main pandas functions are used in data tidying those are `melt` and `pivot_table`."
   ]
  },
  {
   "attachments": {},
   "cell_type": "markdown",
   "metadata": {},
   "source": [
    "Let's start by taking a look at the below dataframe, which represents the income ranges based on religion. This is part of the PEW research, which is famous in the US for conducting pollings and surveys on citizens.\n",
    "\n",
    "When the following are satisfied:\n",
    "\n",
    "\n",
    "1. Each variable forms a column\n",
    "2. Each observation forms a row\n",
    "3. Each type of observational unit forms a table\n",
    "\n",
    "We can then say that our dataset is *tidy*.\n",
    "\n",
    "First we need to import pandas to read csv datasets."
   ]
  },
  {
   "cell_type": "code",
   "execution_count": 1,
   "metadata": {},
   "outputs": [],
   "source": [
    "import pandas as pd\n",
    "import numpy as np\n"
   ]
  },
  {
   "attachments": {},
   "cell_type": "markdown",
   "metadata": {},
   "source": [
    "### **PEW Research Dataset**"
   ]
  },
  {
   "attachments": {},
   "cell_type": "markdown",
   "metadata": {},
   "source": [
    "1. Start by Importing the dataset into a pandas dataframe."
   ]
  },
  {
   "cell_type": "code",
   "execution_count": 5,
   "metadata": {},
   "outputs": [
    {
     "name": "stdout",
     "output_type": "stream",
     "text": [
      "            religion   <$10k   $10-20k  $20-30k  $30-40k   $40-50k  $50-75k\n",
      "0           Agnostic      27        34       60       81        76      137\n",
      "1            Atheist      12        27       37       52        35       70\n",
      "2           Buddhist      27        21       30       34        33       58\n",
      "3           Catholic     418       617      732      670       638     1116\n",
      "4  Dont know/refused      15        14       15       11        10       35\n"
     ]
    }
   ],
   "source": [
    "# Cell below \"1. Start by Importing the dataset into a pandas dataframe.\"\n",
    "df_pew = pd.read_csv('CSVs/pew-raw.csv')\n",
    "print(df_pew.head())"
   ]
  },
  {
   "attachments": {},
   "cell_type": "markdown",
   "metadata": {},
   "source": [
    "2. Observe the dataset using the `loc`, `iloc`, `head`, or `tail` approaches"
   ]
  },
  {
   "cell_type": "code",
   "execution_count": 6,
   "metadata": {},
   "outputs": [
    {
     "name": "stdout",
     "output_type": "stream",
     "text": [
      "            religion   <$10k   $10-20k  $20-30k  $30-40k   $40-50k  $50-75k\n",
      "0           Agnostic      27        34       60       81        76      137\n",
      "1            Atheist      12        27       37       52        35       70\n",
      "2           Buddhist      27        21       30       34        33       58\n",
      "3           Catholic     418       617      732      670       638     1116\n",
      "4  Dont know/refused      15        14       15       11        10       35\n",
      "                   religion   <$10k   $10-20k  $20-30k  $30-40k   $40-50k  \\\n",
      "5         Evangelical Prot      575       869     1064      982       881   \n",
      "6                    Hindu        1         9        7        9        11   \n",
      "7  Historically Black Prot      228       244      236      238       197   \n",
      "8         Jehovahs Witness       20        27       24       24        21   \n",
      "9                   Jewish       19        19       25       25        30   \n",
      "\n",
      "   $50-75k  \n",
      "5     1486  \n",
      "6       34  \n",
      "7      223  \n",
      "8       30  \n",
      "9       95  \n",
      "religion    Agnostic\n",
      " <$10k            27\n",
      " $10-20k          34\n",
      "$20-30k           60\n",
      "$30-40k           81\n",
      " $40-50k          76\n",
      "$50-75k          137\n",
      "Name: 0, dtype: object\n",
      "religion    Agnostic\n",
      " <$10k            27\n",
      " $10-20k          34\n",
      "$20-30k           60\n",
      "$30-40k           81\n",
      " $40-50k          76\n",
      "$50-75k          137\n",
      "Name: 0, dtype: object\n"
     ]
    }
   ],
   "source": [
    "# Cell below \"2. Observe the dataset using the `loc`, `iloc`, `head`, or `tail` approaches\"\n",
    "print(df_pew.head())      # Display the first 5 rows\n",
    "print(df_pew.tail())      # Display the last 5 rows\n",
    "print(df_pew.iloc[0])     # Display the first row using iloc\n",
    "print(df_pew.loc[0])      # Display the first row using loc"
   ]
  },
  {
   "attachments": {},
   "cell_type": "markdown",
   "metadata": {},
   "source": [
    "***What does not seem right in the above dataframe?***"
   ]
  },
  {
   "cell_type": "markdown",
   "metadata": {},
   "source": [
    "The headers of the cloumns represent ranges, and this will make the data wide, to make the data tidy, we should have ine column for religion, one for income range and one for the count."
   ]
  },
  {
   "attachments": {},
   "cell_type": "markdown",
   "metadata": {},
   "source": [
    "3. Try to make the column headers represent a variable not a value. For that, use the `melt` function."
   ]
  },
  {
   "cell_type": "code",
   "execution_count": 7,
   "metadata": {},
   "outputs": [
    {
     "name": "stdout",
     "output_type": "stream",
     "text": [
      "            religion  income  count\n",
      "0           Agnostic   <$10k     27\n",
      "1            Atheist   <$10k     12\n",
      "2           Buddhist   <$10k     27\n",
      "3           Catholic   <$10k    418\n",
      "4  Dont know/refused   <$10k     15\n"
     ]
    }
   ],
   "source": [
    "# Cell below \"3. Try to make the column headers represent a variable not a value. For that, use the `melt` function.\"\n",
    "df_pew_melted = pd.melt(df_pew, id_vars=['religion'], var_name='income', value_name='count')\n",
    "print(df_pew_melted.head())"
   ]
  },
  {
   "attachments": {},
   "cell_type": "markdown",
   "metadata": {},
   "source": [
    "### **Billboard Dataset**"
   ]
  },
  {
   "attachments": {},
   "cell_type": "markdown",
   "metadata": {},
   "source": [
    "This dataset outlines data about the top hit songs on the Billboard list and the week from entrance that it was in the billboard with the ranking."
   ]
  },
  {
   "attachments": {},
   "cell_type": "markdown",
   "metadata": {},
   "source": [
    "1. Read the dataset and store it in a pandas dataframe. Note that the usual utf-8 encoding does not work on this dataset. The reason behind this is that there might be characters that are not supported by `utf-8`.\n",
    "\n",
    "The suggestion is to use for this dataset `unicode_escape` encoding. (converts all non-ASCII characters into their \\uXXXX representations)"
   ]
  },
  {
   "cell_type": "code",
   "execution_count": 8,
   "metadata": {},
   "outputs": [
    {
     "name": "stdout",
     "output_type": "stream",
     "text": [
      "   year      artist.inverted                                  track  time  \\\n",
      "0  2000      Destiny's Child               Independent Women Part I  3:38   \n",
      "1  2000              Santana                           Maria, Maria  4:18   \n",
      "2  2000        Savage Garden                     I Knew I Loved You  4:07   \n",
      "3  2000              Madonna                                  Music  3:45   \n",
      "4  2000  Aguilera, Christina  Come On Over Baby (All I Want Is You)  3:38   \n",
      "\n",
      "  genre date.entered date.peaked  x1st.week  x2nd.week  x3rd.week  ...  \\\n",
      "0  Rock   2000-09-23  2000-11-18         78       63.0       49.0  ...   \n",
      "1  Rock   2000-02-12  2000-04-08         15        8.0        6.0  ...   \n",
      "2  Rock   1999-10-23  2000-01-29         71       48.0       43.0  ...   \n",
      "3  Rock   2000-08-12  2000-09-16         41       23.0       18.0  ...   \n",
      "4  Rock   2000-08-05  2000-10-14         57       47.0       45.0  ...   \n",
      "\n",
      "   x67th.week  x68th.week  x69th.week  x70th.week  x71st.week  x72nd.week  \\\n",
      "0         NaN         NaN         NaN         NaN         NaN         NaN   \n",
      "1         NaN         NaN         NaN         NaN         NaN         NaN   \n",
      "2         NaN         NaN         NaN         NaN         NaN         NaN   \n",
      "3         NaN         NaN         NaN         NaN         NaN         NaN   \n",
      "4         NaN         NaN         NaN         NaN         NaN         NaN   \n",
      "\n",
      "   x73rd.week  x74th.week  x75th.week  x76th.week  \n",
      "0         NaN         NaN         NaN         NaN  \n",
      "1         NaN         NaN         NaN         NaN  \n",
      "2         NaN         NaN         NaN         NaN  \n",
      "3         NaN         NaN         NaN         NaN  \n",
      "4         NaN         NaN         NaN         NaN  \n",
      "\n",
      "[5 rows x 83 columns]\n"
     ]
    }
   ],
   "source": [
    "# Cell below \"1. Read the dataset and store it in a pandas dataframe. Note that the usual utf-8 encoding does not work on this dataset.\"\n",
    "df_billboard = pd.read_csv('CSVs/billboard.csv', encoding='unicode_escape')\n",
    "print(df_billboard.head())"
   ]
  },
  {
   "attachments": {},
   "cell_type": "markdown",
   "metadata": {},
   "source": [
    "2. Observe the first few rows of the dataset."
   ]
  },
  {
   "cell_type": "code",
   "execution_count": 9,
   "metadata": {},
   "outputs": [
    {
     "name": "stdout",
     "output_type": "stream",
     "text": [
      "   year      artist.inverted                                  track  time  \\\n",
      "0  2000      Destiny's Child               Independent Women Part I  3:38   \n",
      "1  2000              Santana                           Maria, Maria  4:18   \n",
      "2  2000        Savage Garden                     I Knew I Loved You  4:07   \n",
      "3  2000              Madonna                                  Music  3:45   \n",
      "4  2000  Aguilera, Christina  Come On Over Baby (All I Want Is You)  3:38   \n",
      "\n",
      "  genre date.entered date.peaked  x1st.week  x2nd.week  x3rd.week  ...  \\\n",
      "0  Rock   2000-09-23  2000-11-18         78       63.0       49.0  ...   \n",
      "1  Rock   2000-02-12  2000-04-08         15        8.0        6.0  ...   \n",
      "2  Rock   1999-10-23  2000-01-29         71       48.0       43.0  ...   \n",
      "3  Rock   2000-08-12  2000-09-16         41       23.0       18.0  ...   \n",
      "4  Rock   2000-08-05  2000-10-14         57       47.0       45.0  ...   \n",
      "\n",
      "   x67th.week  x68th.week  x69th.week  x70th.week  x71st.week  x72nd.week  \\\n",
      "0         NaN         NaN         NaN         NaN         NaN         NaN   \n",
      "1         NaN         NaN         NaN         NaN         NaN         NaN   \n",
      "2         NaN         NaN         NaN         NaN         NaN         NaN   \n",
      "3         NaN         NaN         NaN         NaN         NaN         NaN   \n",
      "4         NaN         NaN         NaN         NaN         NaN         NaN   \n",
      "\n",
      "   x73rd.week  x74th.week  x75th.week  x76th.week  \n",
      "0         NaN         NaN         NaN         NaN  \n",
      "1         NaN         NaN         NaN         NaN  \n",
      "2         NaN         NaN         NaN         NaN  \n",
      "3         NaN         NaN         NaN         NaN  \n",
      "4         NaN         NaN         NaN         NaN  \n",
      "\n",
      "[5 rows x 83 columns]\n",
      "     year   artist.inverted             track  time genre date.entered  \\\n",
      "312  2000  Ghostface Killah  Cherchez LaGhost  3:04   R&B   2000-08-05   \n",
      "313  2000       Smith, Will       Freakin' It  3:58   Rap   2000-02-12   \n",
      "314  2000     Zombie Nation     Kernkraft 400  3:30  Rock   2000-09-02   \n",
      "315  2000    Eastsidaz, The          Got Beef  3:58   Rap   2000-07-01   \n",
      "316  2000            Fragma    Toca's Miracle  3:22   R&B   2000-10-28   \n",
      "\n",
      "    date.peaked  x1st.week  x2nd.week  x3rd.week  ...  x67th.week  x68th.week  \\\n",
      "312  2000-08-05         98        NaN        NaN  ...         NaN         NaN   \n",
      "313  2000-02-12         99       99.0       99.0  ...         NaN         NaN   \n",
      "314  2000-09-02         99       99.0        NaN  ...         NaN         NaN   \n",
      "315  2000-07-01         99       99.0        NaN  ...         NaN         NaN   \n",
      "316  2000-10-28         99        NaN        NaN  ...         NaN         NaN   \n",
      "\n",
      "     x69th.week  x70th.week  x71st.week  x72nd.week  x73rd.week  x74th.week  \\\n",
      "312         NaN         NaN         NaN         NaN         NaN         NaN   \n",
      "313         NaN         NaN         NaN         NaN         NaN         NaN   \n",
      "314         NaN         NaN         NaN         NaN         NaN         NaN   \n",
      "315         NaN         NaN         NaN         NaN         NaN         NaN   \n",
      "316         NaN         NaN         NaN         NaN         NaN         NaN   \n",
      "\n",
      "     x75th.week  x76th.week  \n",
      "312         NaN         NaN  \n",
      "313         NaN         NaN  \n",
      "314         NaN         NaN  \n",
      "315         NaN         NaN  \n",
      "316         NaN         NaN  \n",
      "\n",
      "[5 rows x 83 columns]\n"
     ]
    }
   ],
   "source": [
    "# Cell below \"2. Observe the first few rows of the dataset.\"\n",
    "print(df_billboard.head())   # Display the first 5 rows\n",
    "print(df_billboard.tail())   # Display the last 5 rows"
   ]
  },
  {
   "attachments": {},
   "cell_type": "markdown",
   "metadata": {},
   "source": [
    "***What is wrong with the above dataset?***"
   ]
  },
  {
   "cell_type": "markdown",
   "metadata": {},
   "source": [
    "The dataset is very wide, with each week as a separate column (e.g., \"wk1\", \"wk2\", ...). This is not tidy: instead of having a \"week\" column and a \"rank\" column, the week numbers are embedded in the column names. This makes analysis and visualization more difficult. The data should be reshaped so each row represents a song-week combination, with columns for song details, week number, and rank."
   ]
  },
  {
   "attachments": {},
   "cell_type": "markdown",
   "metadata": {},
   "source": [
    "3. Let's, again, use the `melt` function to fix the general structure of the dataframe."
   ]
  },
  {
   "cell_type": "code",
   "execution_count": 10,
   "metadata": {},
   "outputs": [
    {
     "name": "stdout",
     "output_type": "stream",
     "text": [
      "   year      artist.inverted                                  track  time  \\\n",
      "0  2000      Destiny's Child               Independent Women Part I  3:38   \n",
      "1  2000              Santana                           Maria, Maria  4:18   \n",
      "2  2000        Savage Garden                     I Knew I Loved You  4:07   \n",
      "3  2000              Madonna                                  Music  3:45   \n",
      "4  2000  Aguilera, Christina  Come On Over Baby (All I Want Is You)  3:38   \n",
      "\n",
      "  genre date.entered date.peaked       week  rank  \n",
      "0  Rock   2000-09-23  2000-11-18  x1st.week  78.0  \n",
      "1  Rock   2000-02-12  2000-04-08  x1st.week  15.0  \n",
      "2  Rock   1999-10-23  2000-01-29  x1st.week  71.0  \n",
      "3  Rock   2000-08-12  2000-09-16  x1st.week  41.0  \n",
      "4  Rock   2000-08-05  2000-10-14  x1st.week  57.0  \n"
     ]
    }
   ],
   "source": [
    "# Cell below \"3. Let's, again, use the `melt` function to fix the general structure of the dataframe.\"\n",
    "df_billboard_melted = pd.melt(\n",
    "    df_billboard,\n",
    "    id_vars=['year', 'artist.inverted', 'track', 'time', 'genre', 'date.entered', 'date.peaked'],\n",
    "    var_name='week',\n",
    "    value_name='rank'\n",
    ")\n",
    "print(df_billboard_melted.head())"
   ]
  },
  {
   "attachments": {},
   "cell_type": "markdown",
   "metadata": {},
   "source": [
    "If we inspect the current dataframe. We find that it is structured in a better way than before. \n",
    "\n",
    "However, the ***Week*** column looks a bit ugly!\n",
    "\n",
    "4. Let's try to place only the week number in that column without the extras surronding it."
   ]
  },
  {
   "cell_type": "code",
   "execution_count": 11,
   "metadata": {},
   "outputs": [
    {
     "name": "stdout",
     "output_type": "stream",
     "text": [
      "   week\n",
      "0     1\n",
      "1     1\n",
      "2     1\n",
      "3     1\n",
      "4     1\n"
     ]
    },
    {
     "name": "stderr",
     "output_type": "stream",
     "text": [
      "<>:2: SyntaxWarning: invalid escape sequence '\\d'\n",
      "<>:2: SyntaxWarning: invalid escape sequence '\\d'\n",
      "C:\\Users\\RAJEH\\AppData\\Local\\Temp\\ipykernel_21420\\1993332706.py:2: SyntaxWarning: invalid escape sequence '\\d'\n",
      "  df_billboard_melted['week'] = df_billboard_melted['week'].str.extract('(\\d+)').astype('Int64')\n"
     ]
    }
   ],
   "source": [
    "# Cell below \"Let's try to place only the week number in that column without the extras surronding it.\"\n",
    "df_billboard_melted['week'] = df_billboard_melted['week'].str.extract('(\\d+)').astype('Int64')\n",
    "print(df_billboard_melted[['week']].head())"
   ]
  },
  {
   "attachments": {},
   "cell_type": "markdown",
   "metadata": {},
   "source": [
    "5. Now let's inspect the ***Week*** column in the dataframe."
   ]
  },
  {
   "cell_type": "code",
   "execution_count": 12,
   "metadata": {},
   "outputs": [
    {
     "name": "stdout",
     "output_type": "stream",
     "text": [
      "<IntegerArray>\n",
      "[ 1,  2,  3,  4,  5,  6,  7,  8,  9, 10, 11, 12, 13, 14, 15, 16, 17, 18, 19,\n",
      " 20, 21, 22, 23, 24, 25, 26, 27, 28, 29, 30, 31, 32, 33, 34, 35, 36, 37, 38,\n",
      " 39, 40, 41, 42, 43, 44, 45, 46, 47, 48, 49, 50, 51, 52, 53, 54, 55, 56, 57,\n",
      " 58, 59, 60, 61, 62, 63, 64, 65, 66, 67, 68, 69, 70, 71, 72, 73, 74, 75, 76]\n",
      "Length: 76, dtype: Int64\n",
      "count      24092.0\n",
      "mean          38.5\n",
      "std      21.937866\n",
      "min            1.0\n",
      "25%          19.75\n",
      "50%           38.5\n",
      "75%          57.25\n",
      "max           76.0\n",
      "Name: week, dtype: Float64\n",
      "   week\n",
      "0     1\n",
      "1     1\n",
      "2     1\n",
      "3     1\n",
      "4     1\n",
      "5     1\n",
      "6     1\n",
      "7     1\n",
      "8     1\n",
      "9     1\n"
     ]
    }
   ],
   "source": [
    "# Cell below \"5. Now let's inspect the ***Week*** column in the dataframe.\"\n",
    "print(df_billboard_melted['week'].unique())    # Show unique week numbers\n",
    "print(df_billboard_melted['week'].describe())  # Show summary statistics for the week column\n",
    "print(df_billboard_melted[['week']].head(10))  # Show the first 10 week values"
   ]
  },
  {
   "attachments": {},
   "cell_type": "markdown",
   "metadata": {},
   "source": [
    "Next, let's try to find the date at which the song ranked the number that is shown per row.\n",
    "\n",
    "6. To do that let's first think of the equation that is going to get us the relevant date at which the song ranked the *rth*.\n",
    "\n"
   ]
  },
  {
   "cell_type": "code",
   "execution_count": 13,
   "metadata": {},
   "outputs": [
    {
     "name": "stdout",
     "output_type": "stream",
     "text": [
      "  date.entered  week       date\n",
      "0   2000-09-23     1 2000-09-23\n",
      "1   2000-02-12     1 2000-02-12\n",
      "2   1999-10-23     1 1999-10-23\n",
      "3   2000-08-12     1 2000-08-12\n",
      "4   2000-08-05     1 2000-08-05\n"
     ]
    }
   ],
   "source": [
    "# Cell below \"6. To do that let's first think of the equation that is going to get us the relevant date at which the song ranked the *rth*.\"\n",
    "df_billboard_melted['date'] = pd.to_datetime(df_billboard_melted['date.entered']) + pd.to_timedelta(df_billboard_melted['week'] - 1, unit='W')\n",
    "print(df_billboard_melted[['date.entered', 'week', 'date']].head())"
   ]
  },
  {
   "attachments": {},
   "cell_type": "markdown",
   "metadata": {},
   "source": [
    "*Timedeltas are absolute differences in times, expressed in difference units (e.g. days, hours, minutes, seconds). This method converts an argument from a recognized timedelta format / value into a Timedelta type.*\n"
   ]
  },
  {
   "attachments": {},
   "cell_type": "markdown",
   "metadata": {},
   "source": [
    "***What is the problem with the calculation above?***"
   ]
  },
  {
   "cell_type": "markdown",
   "metadata": {},
   "source": [
    "The problem with the calculation above is that it assumes every week follows consecutively from the date.entered, but in reality, some songs may not have ranked every single week (there may be missing weeks or NaN values for some weeks). Also, if the week value is NaN, the resulting date will also be NaT (Not a Time). This can lead to incorrect or missing date values for those rows."
   ]
  },
  {
   "attachments": {},
   "cell_type": "markdown",
   "metadata": {},
   "source": [
    "7. Let's only keep necessary columns"
   ]
  },
  {
   "cell_type": "code",
   "execution_count": null,
   "metadata": {},
   "outputs": [],
   "source": [
    "# Cell below \"7. Let's only keep necessary columns\"\n",
    "df_billboard_clean = df_billboard_melted[['year', 'artist.inverted', 'track', 'week', 'rank', 'date']]\n",
    "print(df_billboard_clean.head())"
   ]
  },
  {
   "attachments": {},
   "cell_type": "markdown",
   "metadata": {},
   "source": [
    "8. How to rename your columns?"
   ]
  },
  {
   "cell_type": "code",
   "execution_count": 15,
   "metadata": {},
   "outputs": [
    {
     "name": "stdout",
     "output_type": "stream",
     "text": [
      "   Year               Artist                                  Track  Week  \\\n",
      "0  2000      Destiny's Child               Independent Women Part I     1   \n",
      "1  2000              Santana                           Maria, Maria     1   \n",
      "2  2000        Savage Garden                     I Knew I Loved You     1   \n",
      "3  2000              Madonna                                  Music     1   \n",
      "4  2000  Aguilera, Christina  Come On Over Baby (All I Want Is You)     1   \n",
      "\n",
      "   Rank       Date  \n",
      "0  78.0 2000-09-23  \n",
      "1  15.0 2000-02-12  \n",
      "2  71.0 1999-10-23  \n",
      "3  41.0 2000-08-12  \n",
      "4  57.0 2000-08-05  \n"
     ]
    }
   ],
   "source": [
    "# Cell below \"8. How to rename your columns?\"\n",
    "df_billboard_clean = df_billboard_melted[['year', 'artist.inverted', 'track', 'week', 'rank', 'date']]\n",
    "df_billboard_clean = df_billboard_clean.rename(columns={\n",
    "    'year': 'Year',\n",
    "    'artist.inverted': 'Artist',\n",
    "    'track': 'Track',\n",
    "    'week': 'Week',\n",
    "    'rank': 'Rank',\n",
    "    'date': 'Date'\n",
    "})\n",
    "print(df_billboard_clean.head())"
   ]
  },
  {
   "attachments": {},
   "cell_type": "markdown",
   "metadata": {},
   "source": [
    "Display the dataframe"
   ]
  },
  {
   "attachments": {},
   "cell_type": "markdown",
   "metadata": {},
   "source": [
    "In the above dataframe, there are some *NaN* values. What are we going to do? <br/>\n",
    "9. Apply quick data cleaning and then observe the dataset"
   ]
  },
  {
   "cell_type": "markdown",
   "metadata": {},
   "source": [
    "Identify the dataframe to clean (df_billboard_clean).\n",
    "Decide on a quick cleaning strategy (e.g., drop rows with NaN values).\n",
    "Apply the cleaning method.\n",
    "Observe the cleaned dataframe (e.g., print head and check for remaining NaNs).\n",
    "Write tests to verify:\n",
    "No NaN values remain after cleaning.\n",
    "The number of rows is less than or equal to before cleaning.\n",
    "Data types remain unchanged"
   ]
  },
  {
   "cell_type": "code",
   "execution_count": 16,
   "metadata": {},
   "outputs": [
    {
     "name": "stdout",
     "output_type": "stream",
     "text": [
      "   Year               Artist                                  Track  Week  \\\n",
      "0  2000      Destiny's Child               Independent Women Part I     1   \n",
      "1  2000              Santana                           Maria, Maria     1   \n",
      "2  2000        Savage Garden                     I Knew I Loved You     1   \n",
      "3  2000              Madonna                                  Music     1   \n",
      "4  2000  Aguilera, Christina  Come On Over Baby (All I Want Is You)     1   \n",
      "\n",
      "   Rank       Date  \n",
      "0  78.0 2000-09-23  \n",
      "1  15.0 2000-02-12  \n",
      "2  71.0 1999-10-23  \n",
      "3  41.0 2000-08-12  \n",
      "4  57.0 2000-08-05  \n",
      "Year      0\n",
      "Artist    0\n",
      "Track     0\n",
      "Week      0\n",
      "Rank      0\n",
      "Date      0\n",
      "dtype: int64\n"
     ]
    }
   ],
   "source": [
    "# Cell below \"Apply quick data cleaning and then observe the dataset\"\n",
    "df_billboard_clean = df_billboard_clean.dropna()\n",
    "print(df_billboard_clean.head())\n",
    "print(df_billboard_clean.isnull().sum())"
   ]
  },
  {
   "attachments": {},
   "cell_type": "markdown",
   "metadata": {},
   "source": [
    "## **Data Cleaning**\n",
    "\n",
    "Data cleaning involves removing unwanted characters, imputing, or dropping missing values.\n",
    "\n",
    "The decision is based on the dataset you have, and the information you can extract from the other columns.\n",
    "\n",
    "\n",
    "Examples of data cleaning include cleaning:\n",
    "\n",
    "1.   **Missing Data**\n",
    "2.   **Irregular Data** (Outliers)\n",
    "3.   **Unnecessary Data** — Repetitive Data, Duplicates and more\n",
    "4.   **Inconsistent Data** — Capitalization, Addresses and more\n",
    "\n",
    "\n",
    "\n",
    "\n",
    "\n",
    "\n"
   ]
  },
  {
   "attachments": {},
   "cell_type": "markdown",
   "metadata": {},
   "source": [
    "### **Cars Data Set**"
   ]
  },
  {
   "attachments": {},
   "cell_type": "markdown",
   "metadata": {},
   "source": [
    "Start by reading the dataset related to car models: ./CSVs/cars.csv"
   ]
  },
  {
   "cell_type": "code",
   "execution_count": 17,
   "metadata": {},
   "outputs": [
    {
     "name": "stdout",
     "output_type": "stream",
     "text": [
      "  Car;MPG;Cylinders;Displacement;Horsepower;Weight;Acceleration;Model;Origin\n",
      "0  STRING;DOUBLE;INT;DOUBLE;DOUBLE;DOUBLE;DOUBLE;...                        \n",
      "1  Chevrolet Chevelle Malibu;;8;307.0;130.0;3504....                        \n",
      "2   Buick Skylark 320;15.0;8;350.0;;3693.;11.5;70;US                        \n",
      "3  Plymouth Satellite;;8;318.0;150.0;3436.;11.0;7...                        \n",
      "4            AMC Rebel SST;16.0;8;;150.0;;12.0;70;US                        \n",
      "<class 'pandas.core.frame.DataFrame'>\n",
      "RangeIndex: 407 entries, 0 to 406\n",
      "Data columns (total 1 columns):\n",
      " #   Column                                                                      Non-Null Count  Dtype \n",
      "---  ------                                                                      --------------  ----- \n",
      " 0   Car;MPG;Cylinders;Displacement;Horsepower;Weight;Acceleration;Model;Origin  407 non-null    object\n",
      "dtypes: object(1)\n",
      "memory usage: 3.3+ KB\n",
      "None\n"
     ]
    }
   ],
   "source": [
    "# Cell below \"Start by reading the dataset related to car models: ./CSVs/cars.csv\"\n",
    "df_cars = pd.read_csv('./CSVs/cars.csv')\n",
    "print(df_cars.head())\n",
    "print(df_cars.info())"
   ]
  },
  {
   "attachments": {},
   "cell_type": "markdown",
   "metadata": {},
   "source": [
    "First Row seems to be the datatype, we need to remove it"
   ]
  },
  {
   "cell_type": "code",
   "execution_count": 18,
   "metadata": {},
   "outputs": [
    {
     "name": "stdout",
     "output_type": "stream",
     "text": [
      "  Car;MPG;Cylinders;Displacement;Horsepower;Weight;Acceleration;Model;Origin\n",
      "0  Chevrolet Chevelle Malibu;;8;307.0;130.0;3504....                        \n",
      "1   Buick Skylark 320;15.0;8;350.0;;3693.;11.5;70;US                        \n",
      "2  Plymouth Satellite;;8;318.0;150.0;3436.;11.0;7...                        \n",
      "3            AMC Rebel SST;16.0;8;;150.0;;12.0;70;US                        \n",
      "4    Ford Torino;17.0;8;302.0;140.0;3449.;10.5;70;US                        \n"
     ]
    }
   ],
   "source": [
    "# Cell below \"First Row seems to be the datatype, we need to remove it\"\n",
    "# Remove the first row if it contains column data types instead of actual data\n",
    "df_cars = df_cars.iloc[1:].reset_index(drop=True)\n",
    "print(df_cars.head())"
   ]
  },
  {
   "attachments": {},
   "cell_type": "markdown",
   "metadata": {},
   "source": [
    "Let's observe the columns with null values.  Either by using the `isnull().sum()` function "
   ]
  },
  {
   "cell_type": "code",
   "execution_count": 19,
   "metadata": {},
   "outputs": [
    {
     "name": "stdout",
     "output_type": "stream",
     "text": [
      "Car;MPG;Cylinders;Displacement;Horsepower;Weight;Acceleration;Model;Origin    0\n",
      "dtype: int64\n"
     ]
    }
   ],
   "source": [
    "# Cell below \"Let's observe the columns with null values.  Either by using the `isnull().sum()` function\"\n",
    "print(df_cars.isnull().sum())"
   ]
  },
  {
   "attachments": {},
   "cell_type": "markdown",
   "metadata": {},
   "source": [
    "There aren't many missing values. Let's take a glimpse at the percentage of the missing values:\n",
    "\n",
    "**HINT:** We'll need `Numpy` for the below task."
   ]
  },
  {
   "cell_type": "code",
   "execution_count": 20,
   "metadata": {},
   "outputs": [
    {
     "name": "stdout",
     "output_type": "stream",
     "text": [
      "Car;MPG;Cylinders;Displacement;Horsepower;Weight;Acceleration;Model;Origin    0.0\n",
      "dtype: float64\n"
     ]
    }
   ],
   "source": [
    "# There aren't many missing values. Let's take a glimpse at the percentage of the missing values:\n",
    "\n",
    "import numpy as np\n",
    "\n",
    "missing_percent = (df_cars.isnull().sum() / len(df_cars)) * 100\n",
    "print(missing_percent)"
   ]
  },
  {
   "attachments": {},
   "cell_type": "markdown",
   "metadata": {},
   "source": [
    "Around *0.19%* of the values are missing, which isn't a lot. Therefore, we might go with the option of dropping all the rows with null values."
   ]
  },
  {
   "cell_type": "code",
   "execution_count": 21,
   "metadata": {},
   "outputs": [
    {
     "name": "stdout",
     "output_type": "stream",
     "text": [
      "Car;MPG;Cylinders;Displacement;Horsepower;Weight;Acceleration;Model;Origin    0\n",
      "dtype: int64\n",
      "  Car;MPG;Cylinders;Displacement;Horsepower;Weight;Acceleration;Model;Origin\n",
      "0  Chevrolet Chevelle Malibu;;8;307.0;130.0;3504....                        \n",
      "1   Buick Skylark 320;15.0;8;350.0;;3693.;11.5;70;US                        \n",
      "2  Plymouth Satellite;;8;318.0;150.0;3436.;11.0;7...                        \n",
      "3            AMC Rebel SST;16.0;8;;150.0;;12.0;70;US                        \n",
      "4    Ford Torino;17.0;8;302.0;140.0;3449.;10.5;70;US                        \n"
     ]
    }
   ],
   "source": [
    "# Around *0.19%* of the values are missing, which isn't a lot. Therefore, we might go with the option of dropping all the rows with null values.\n",
    "df_cars = df_cars.dropna()\n",
    "print(df_cars.isnull().sum())\n",
    "print(df_cars.head())"
   ]
  },
  {
   "attachments": {},
   "cell_type": "markdown",
   "metadata": {},
   "source": [
    "Lets also check dropping the columns"
   ]
  },
  {
   "cell_type": "code",
   "execution_count": 22,
   "metadata": {},
   "outputs": [
    {
     "name": "stdout",
     "output_type": "stream",
     "text": [
      "Columns remaining after dropping columns with missing values: 1\n",
      "  Car;MPG;Cylinders;Displacement;Horsepower;Weight;Acceleration;Model;Origin\n",
      "0  Chevrolet Chevelle Malibu;;8;307.0;130.0;3504....                        \n",
      "1   Buick Skylark 320;15.0;8;350.0;;3693.;11.5;70;US                        \n",
      "2  Plymouth Satellite;;8;318.0;150.0;3436.;11.0;7...                        \n",
      "3            AMC Rebel SST;16.0;8;;150.0;;12.0;70;US                        \n",
      "4    Ford Torino;17.0;8;302.0;140.0;3449.;10.5;70;US                        \n"
     ]
    }
   ],
   "source": [
    "# Lets also check dropping the columns\n",
    "# Drop columns with any missing values and see how many columns remain\n",
    "df_cars_dropcol = df_cars.dropna(axis=1)\n",
    "print(f\"Columns remaining after dropping columns with missing values: {df_cars_dropcol.shape[1]}\")\n",
    "print(df_cars_dropcol.head())"
   ]
  },
  {
   "attachments": {},
   "cell_type": "markdown",
   "metadata": {},
   "source": [
    "Let's observe how many columns we lost"
   ]
  },
  {
   "cell_type": "code",
   "execution_count": 23,
   "metadata": {},
   "outputs": [
    {
     "name": "stdout",
     "output_type": "stream",
     "text": [
      "Original columns: 1, Remaining after drop: 1\n",
      "Columns dropped: 0\n"
     ]
    }
   ],
   "source": [
    "# Let's observe how many columns we lost\n",
    "original_columns = df_cars.shape[1]\n",
    "remaining_columns = df_cars_dropcol.shape[1]\n",
    "print(f\"Original columns: {original_columns}, Remaining after drop: {remaining_columns}\")\n",
    "print(f\"Columns dropped: {original_columns - remaining_columns}\")"
   ]
  },
  {
   "attachments": {},
   "cell_type": "markdown",
   "metadata": {},
   "source": [
    "### **Cars Dataset - Filling in missing values automatically**\n",
    "\n",
    "Another option is to try and fill in the missing values through imputations."
   ]
  },
  {
   "attachments": {},
   "cell_type": "markdown",
   "metadata": {},
   "source": [
    "Let's take the `MPG` column for example. We can fill in the missing values with 0s through the following line of code:\n",
    "\n",
    "`df_cars.fillna(0) `. "
   ]
  },
  {
   "cell_type": "code",
   "execution_count": 25,
   "metadata": {},
   "outputs": [
    {
     "name": "stdout",
     "output_type": "stream",
     "text": [
      "0\n"
     ]
    }
   ],
   "source": [
    "# Let's take the `MPG` column for example. We can fill in the missing values with 0s through the following line of code:\n",
    "\n",
    "# Split the single column into multiple columns if not already done\n",
    "if 'MPG' not in df_cars.columns:\n",
    "\tdf_cars = df_cars['Car;MPG;Cylinders;Displacement;Horsepower;Weight;Acceleration;Model;Origin'].str.split(';', expand=True)\n",
    "\tdf_cars.columns = ['Car', 'MPG', 'Cylinders', 'Displacement', 'Horsepower', 'Weight', 'Acceleration', 'Model', 'Origin']\n",
    "\n",
    "# Convert MPG to numeric, coercing errors to NaN\n",
    "df_cars['MPG'] = pd.to_numeric(df_cars['MPG'], errors='coerce')\n",
    "\n",
    "# Fill missing values with 0\n",
    "df_cars['MPG'] = df_cars['MPG'].fillna(0)\n",
    "print(df_cars['MPG'].isnull().sum())"
   ]
  },
  {
   "attachments": {},
   "cell_type": "markdown",
   "metadata": {},
   "source": [
    "However, this does not make much sense as there isn't MPG equal to 0. How about we plot the MPG column and if it follows a random distribution we can use the mean of the column to compute the missing values. Otherwise, we can use the median (if there is a skewed normal distribution). However, there might be a better way of imputation which is getting the median or the mean of the MPG of the cars with similar attributes."
   ]
  },
  {
   "cell_type": "code",
   "execution_count": 26,
   "metadata": {},
   "outputs": [
    {
     "data": {
      "image/png": "[encoded data removed]",
      "text/plain": [
       "<Figure size 800x500 with 1 Axes>"
      ]
     },
     "metadata": {},
     "output_type": "display_data"
    }
   ],
   "source": [
    "# However, this does not make much sense as there isn't MPG equal to 0.\n",
    "# How about we plot the MPG column and check its distribution?\n",
    "\n",
    "import matplotlib.pyplot as plt\n",
    "\n",
    "plt.figure(figsize=(8, 5))\n",
    "df_cars['MPG'].hist(bins=30, edgecolor='black')\n",
    "plt.xlabel('MPG')\n",
    "plt.ylabel('Frequency')\n",
    "plt.title('Distribution of MPG')\n",
    "plt.show()"
   ]
  },
  {
   "attachments": {},
   "cell_type": "markdown",
   "metadata": {},
   "source": [
    "If we observe the graph above, we can consider it in a way or another normally distributed. Therefore, we can impute the missing values using the mean."
   ]
  },
  {
   "cell_type": "code",
   "execution_count": 27,
   "metadata": {},
   "outputs": [
    {
     "name": "stdout",
     "output_type": "stream",
     "text": [
      "Missing values in MPG after imputation: 0\n",
      "Mean used for imputation: 22.925615763546798\n"
     ]
    }
   ],
   "source": [
    "# If we observe the graph above, we can consider it in a way or another normally distributed.\n",
    "# Therefore, we can impute the missing values using the mean.\n",
    "\n",
    "mpg_mean = df_cars['MPG'].mean()\n",
    "df_cars['MPG'] = df_cars['MPG'].fillna(mpg_mean)\n",
    "print(f\"Missing values in MPG after imputation: {df_cars['MPG'].isnull().sum()}\")\n",
    "print(f\"Mean used for imputation: {mpg_mean}\")"
   ]
  },
  {
   "attachments": {},
   "cell_type": "markdown",
   "metadata": {},
   "source": [
    "To compute the mean we need numeric values. However the values in the dataframe are objects. Therefore, we need to change them to numerics so that we can compute them."
   ]
  },
  {
   "cell_type": "code",
   "execution_count": 28,
   "metadata": {},
   "outputs": [
    {
     "name": "stdout",
     "output_type": "stream",
     "text": [
      "float64\n"
     ]
    }
   ],
   "source": [
    "# To compute the mean we need numeric values. However, the values in the dataframe are objects.\n",
    "# Therefore, we need to change them to numerics so that we can compute them.\n",
    "\n",
    "df_cars['MPG'] = pd.to_numeric(df_cars['MPG'], errors='coerce')\n",
    "print(df_cars['MPG'].dtype)"
   ]
  },
  {
   "attachments": {},
   "cell_type": "markdown",
   "metadata": {},
   "source": [
    "Now let's see what is the mean of the MPG column"
   ]
  },
  {
   "cell_type": "code",
   "execution_count": 29,
   "metadata": {},
   "outputs": [
    {
     "name": "stdout",
     "output_type": "stream",
     "text": [
      "Mean of MPG column: 22.925615763546798\n"
     ]
    }
   ],
   "source": [
    "# Now let's see what is the mean of the MPG column\n",
    "\n",
    "mpg_mean = df_cars['MPG'].mean()\n",
    "print(f\"Mean of MPG column: {mpg_mean}\")"
   ]
  },
  {
   "attachments": {},
   "cell_type": "markdown",
   "metadata": {},
   "source": [
    "We can use this mean to compute the missing values since the graph demonstarted a normal distribution"
   ]
  },
  {
   "cell_type": "code",
   "execution_count": 30,
   "metadata": {},
   "outputs": [
    {
     "name": "stdout",
     "output_type": "stream",
     "text": [
      "Missing values in MPG after imputation: 0\n",
      "Mean used for imputation: 22.925615763546798\n"
     ]
    }
   ],
   "source": [
    "# Impute missing values in the MPG column using the mean value\n",
    "df_cars['MPG'] = df_cars['MPG'].fillna(mpg_mean)\n",
    "print(f\"Missing values in MPG after imputation: {df_cars['MPG'].isnull().sum()}\")\n",
    "print(f\"Mean used for imputation: {mpg_mean}\")"
   ]
  },
  {
   "attachments": {},
   "cell_type": "markdown",
   "metadata": {},
   "source": [
    "### **Car Dataset - Simple Imputer**"
   ]
  },
  {
   "attachments": {},
   "cell_type": "markdown",
   "metadata": {},
   "source": [
    "*SimpleImputer* is a `scikit-learn` class which is helpful in handling the missing data in the predictive model dataset. It replaces the `NaN` values with a specified placeholder.\n",
    "It is implemented by the use of the `SimpleImputer()` method which takes the following arguments :\n",
    "\n",
    "`missing_values` : The missing_values placeholder which has to be imputed. By default is NaN\n",
    "\n",
    "`strategy` : The data which will replace the NaN values from the dataset. The strategy argument can take the values – ‘mean'(default), ‘median’, ‘most_frequent’ and ‘constant’.\n"
   ]
  },
  {
   "attachments": {},
   "cell_type": "markdown",
   "metadata": {},
   "source": [
    "Let's start by importing the `SimpleImputer` into our notebook"
   ]
  },
  {
   "cell_type": "code",
   "execution_count": 32,
   "metadata": {},
   "outputs": [],
   "source": [
    "from sklearn.impute import SimpleImputer\n"
   ]
  },
  {
   "attachments": {},
   "cell_type": "markdown",
   "metadata": {},
   "source": [
    "What we need to do are two essential steps:\n",
    "\n",
    "1. fit the data (compute the mean / median / most freq)\n",
    "2. transform the data (place the computed values in the NaN cells)"
   ]
  },
  {
   "cell_type": "code",
   "execution_count": 33,
   "metadata": {},
   "outputs": [
    {
     "name": "stdout",
     "output_type": "stream",
     "text": [
      "0\n",
      "                         Car   MPG Cylinders Displacement Horsepower Weight  \\\n",
      "0  Chevrolet Chevelle Malibu   0.0         8        307.0      130.0  3504.   \n",
      "1          Buick Skylark 320  15.0         8        350.0             3693.   \n",
      "2         Plymouth Satellite   0.0         8        318.0      150.0  3436.   \n",
      "3              AMC Rebel SST  16.0         8                   150.0          \n",
      "4                Ford Torino  17.0         8        302.0      140.0  3449.   \n",
      "\n",
      "  Acceleration Model Origin  \n",
      "0         12.0    70     US  \n",
      "1         11.5    70     US  \n",
      "2         11.0    70     US  \n",
      "3         12.0    70     US  \n",
      "4         10.5    70     US  \n"
     ]
    }
   ],
   "source": [
    "# Example: Impute missing values in the 'MPG' column using SimpleImputer with mean strategy\n",
    "\n",
    "imputer = SimpleImputer(strategy='mean')\n",
    "df_cars['MPG'] = imputer.fit_transform(df_cars[['MPG']])\n",
    "print(df_cars['MPG'].isnull().sum())\n",
    "print(df_cars.head())"
   ]
  },
  {
   "cell_type": "markdown",
   "metadata": {},
   "source": [
    "## **Outlier Detection** \n",
    "\n",
    "\n",
    "An Outlier is a data-item/object that deviates significantly from the rest of the (so-called normal)objects. They can be caused by measurement or execution errors. The analysis for outlier detection is referred to as outlier mining. There are many ways to detect the outliers, and the removal process is the data frame same as removing a data item from the panda’s data frame.\n",
    "\n",
    "\n",
    "\n",
    "https://www.geeksforgeeks.org/detect-and-remove-the-outliers-using-python/\n",
    "\n",
    "\n",
    "\n"
   ]
  },
  {
   "cell_type": "markdown",
   "metadata": {},
   "source": [
    "Outlier detection introduction (no code needed for this cell, just informational)\n",
    " For practical outlier detection, see the next cells for visualization and removal methods.\n"
   ]
  },
  {
   "cell_type": "markdown",
   "metadata": {},
   "source": [
    "An outlier is a data point that deviates significantly from the rest of the dataset. Outliers can be caused by measurement errors, data entry errors, or genuine variability in the data. Detecting and handling outliers is important because they can skew statistical analyses and affect the performance of machine learning models.\n",
    "\n",
    "There are several methods to detect outliers, including:\n",
    "\n",
    "Z-Score Method: Identifies data points that are a certain number of standard deviations away from the mean.\n",
    "IQR (Inter-Quartile Range) Method: Detects outliers based on the spread of the middle 50% of the data.\n",
    "Visualization: Boxplots and scatter plots can help visually identify outliers.\n",
    "Once detected, outliers can be removed from the DataFrame using standard pandas filtering techniques"
   ]
  },
  {
   "cell_type": "markdown",
   "metadata": {},
   "source": [
    "### Outliers Visualization"
   ]
  },
  {
   "cell_type": "markdown",
   "metadata": {},
   "source": [
    "#### Visualizing Outliers Using Box Plot\n",
    "It captures the summary of the data effectively and efficiently with only a simple box and whiskers. Boxplot summarizes sample data using 25th, 50th, and 75th percentiles. One can just get insights(quartiles, median, and outliers) into the dataset by just looking at its boxplot."
   ]
  },
  {
   "cell_type": "code",
   "execution_count": 34,
   "metadata": {},
   "outputs": [
    {
     "data": {
      "image/png": "[encoded data removed]",
      "text/plain": [
       "<Figure size 800x500 with 1 Axes>"
      ]
     },
     "metadata": {},
     "output_type": "display_data"
    }
   ],
   "source": [
    "# Visualize outliers in the MPG column using a boxplot\n",
    "\n",
    "plt.figure(figsize=(8, 5))\n",
    "plt.boxplot(df_cars['MPG'], vert=False)\n",
    "plt.xlabel('MPG')\n",
    "plt.title('Boxplot of MPG (Outlier Visualization)')\n",
    "plt.show()"
   ]
  },
  {
   "cell_type": "markdown",
   "metadata": {},
   "source": [
    "#### Visualizing Outliers Using ScatterPlot.\n",
    "\n",
    "It is used when you have paired numerical data and when your dependent variable has multiple values for each reading independent variable, or when trying to determine the relationship between the two variables. In the process of utilizing the scatter plot, one can also use it for outlier detection."
   ]
  },
  {
   "cell_type": "code",
   "execution_count": 35,
   "metadata": {},
   "outputs": [
    {
     "data": {
      "image/png": "[encoded data removed]",
      "text/plain": [
       "<Figure size 800x500 with 1 Axes>"
      ]
     },
     "metadata": {},
     "output_type": "display_data"
    }
   ],
   "source": [
    "# Visualize outliers using a scatter plot (e.g., Weight vs. MPG)\n",
    "\n",
    "plt.figure(figsize=(8, 5))\n",
    "plt.scatter(df_cars['Weight'], df_cars['MPG'], alpha=0.7)\n",
    "plt.xlabel('Weight')\n",
    "plt.ylabel('MPG')\n",
    "plt.title('Scatter Plot of Weight vs. MPG (Outlier Detection)')\n",
    "plt.show()"
   ]
  },
  {
   "cell_type": "markdown",
   "metadata": {},
   "source": [
    "#### Z-Score:\n",
    "Z- Score is also called a standard score. This value/score helps to understand that how far is the data point from the mean. And after setting up a threshold value one can utilize z score values of data points to define the outliers.\n",
    "<br>\n",
    "Zscore = (data_point -mean) / std. deviation\n",
    "\n"
   ]
  },
  {
   "cell_type": "code",
   "execution_count": 36,
   "metadata": {},
   "outputs": [
    {
     "name": "stdout",
     "output_type": "stream",
     "text": [
      "Number of outliers detected (|z| > 3): 0\n",
      "Empty DataFrame\n",
      "Columns: [Car, MPG, MPG_zscore]\n",
      "Index: []\n"
     ]
    }
   ],
   "source": [
    "# Detect outliers in the MPG column using Z-score\n",
    "\n",
    "from scipy.stats import zscore\n",
    "\n",
    "# Calculate Z-scores for the MPG column\n",
    "df_cars['MPG_zscore'] = zscore(df_cars['MPG'])\n",
    "\n",
    "# Identify outliers (e.g., Z-score > 3 or < -3)\n",
    "outliers = df_cars[(df_cars['MPG_zscore'] > 3) | (df_cars['MPG_zscore'] < -3)]\n",
    "print(f\"Number of outliers detected (|z| > 3): {outliers.shape[0]}\")\n",
    "print(outliers[['Car', 'MPG', 'MPG_zscore']])"
   ]
  },
  {
   "cell_type": "markdown",
   "metadata": {},
   "source": [
    "Now to define an outlier threshold value is chosen which is generally 3.0. As 99.7% of the data points lie between +/- 3 standard deviation (using Gaussian Distribution approach).\n",
    "\n",
    "Rows where Z value is greater than 2"
   ]
  },
  {
   "cell_type": "code",
   "execution_count": 37,
   "metadata": {},
   "outputs": [
    {
     "name": "stdout",
     "output_type": "stream",
     "text": [
      "Number of rows where |Z| > 2: 20\n",
      "                                  Car   MPG  MPG_zscore\n",
      "0           Chevrolet Chevelle Malibu   0.0   -2.664308\n",
      "2                  Plymouth Satellite   0.0   -2.664308\n",
      "5                    Ford Galaxie 500   0.0   -2.664308\n",
      "10               Citroen DS-21 Pallas   0.0   -2.664308\n",
      "11   Chevrolet Chevelle Concours (sw)   0.0   -2.664308\n",
      "12                   Ford Torino (sw)   0.0   -2.664308\n",
      "13            Plymouth Satellite (sw)   0.0   -2.664308\n",
      "14                 AMC Rebel SST (sw)   0.0   -2.664308\n",
      "17              Ford Mustang Boss 302   0.0   -2.664308\n",
      "39        Volkswagen Super Beetle 117   0.0   -2.664308\n",
      "251   Volkswagen Rabbit Custom Diesel  43.1    2.344572\n",
      "316                 Volkswagen Rabbit  41.5    2.158628\n",
      "329                         Mazda GLC  46.6    2.751326\n",
      "331                        Datsun 210  40.8    2.077277\n",
      "332      Volkswagen Rabbit C (Diesel)  44.3    2.484031\n",
      "333        Volkswagen Dasher (diesel)  43.4    2.379437\n",
      "336               Honda Civic 1500 gl  44.6    2.518895\n",
      "337              Renault Lecar Deluxe  40.9    2.088899\n",
      "367                         Saab 900s   0.0   -2.664308\n",
      "402                 Volkswagen Pickup  44.0    2.449166\n"
     ]
    }
   ],
   "source": [
    "# Identify rows where the absolute Z-score is greater than 2 (potential outliers)\n",
    "\n",
    "outliers_z2 = df_cars[(df_cars['MPG_zscore'] > 2) | (df_cars['MPG_zscore'] < -2)]\n",
    "print(f\"Number of rows where |Z| > 2: {outliers_z2.shape[0]}\")\n",
    "print(outliers_z2[['Car', 'MPG', 'MPG_zscore']])"
   ]
  },
  {
   "cell_type": "markdown",
   "metadata": {},
   "source": [
    "#### IQR (Inter-Quartile Range)\n",
    "Inter Quartile Range approach to finding the outliers is the most commonly used and most trusted approach used in the research field. <Br>\n",
    "IQR = Quartile3 - Quartile1"
   ]
  },
  {
   "cell_type": "code",
   "execution_count": 38,
   "metadata": {},
   "outputs": [
    {
     "name": "stdout",
     "output_type": "stream",
     "text": [
      "Number of outliers detected using IQR: 0\n",
      "Empty DataFrame\n",
      "Columns: [Car, MPG]\n",
      "Index: []\n"
     ]
    }
   ],
   "source": [
    "# Detect outliers in the MPG column using the IQR (Inter-Quartile Range) method\n",
    "\n",
    "Q1 = df_cars['MPG'].quantile(0.25)\n",
    "Q3 = df_cars['MPG'].quantile(0.75)\n",
    "IQR = Q3 - Q1\n",
    "\n",
    "lower_bound = Q1 - 1.5 * IQR\n",
    "upper_bound = Q3 + 1.5 * IQR\n",
    "\n",
    "outliers_iqr = df_cars[(df_cars['MPG'] < lower_bound) | (df_cars['MPG'] > upper_bound)]\n",
    "print(f\"Number of outliers detected using IQR: {outliers_iqr.shape[0]}\")\n",
    "print(outliers_iqr[['Car', 'MPG']])"
   ]
  },
  {
   "cell_type": "markdown",
   "metadata": {},
   "source": [
    "To define the outlier base value is defined above and below dataset’s normal range namely Upper and Lower bounds, define the upper and the lower bound (1.5*IQR value is considered) :<br>\n",
    "upper = Q3 + 1.5 * IQR <br>\n",
    "lower = Q1 - 1.5 * IQR <br> "
   ]
  },
  {
   "cell_type": "code",
   "execution_count": 39,
   "metadata": {},
   "outputs": [
    {
     "name": "stdout",
     "output_type": "stream",
     "text": [
      "Upper bound: 47.112500000000004\n",
      "Lower bound: -1.187500000000007\n"
     ]
    }
   ],
   "source": [
    "# Define the upper and lower bounds for outliers using the IQR method\n",
    "\n",
    "upper = Q3 + 1.5 * IQR\n",
    "lower = Q1 - 1.5 * IQR\n",
    "\n",
    "print(f\"Upper bound: {upper}\")\n",
    "print(f\"Lower bound: {lower}\")"
   ]
  },
  {
   "cell_type": "markdown",
   "metadata": {},
   "source": [
    "- Removing the outliers:\n",
    "For removing the outlier, one must follow the same process of removing an entry from the dataset using its exact position in the dataset because in all the above methods of detecting the outliers end result is the list of all those data items that satisfy the outlier definition according to the method used."
   ]
  },
  {
   "cell_type": "code",
   "execution_count": 40,
   "metadata": {},
   "outputs": [
    {
     "name": "stdout",
     "output_type": "stream",
     "text": [
      "Rows after removing outliers: 406\n",
      "                         Car   MPG Cylinders Displacement Horsepower Weight  \\\n",
      "0  Chevrolet Chevelle Malibu   0.0         8        307.0      130.0  3504.   \n",
      "1          Buick Skylark 320  15.0         8        350.0             3693.   \n",
      "2         Plymouth Satellite   0.0         8        318.0      150.0  3436.   \n",
      "3              AMC Rebel SST  16.0         8                   150.0          \n",
      "4                Ford Torino  17.0         8        302.0      140.0  3449.   \n",
      "\n",
      "  Acceleration Model Origin  MPG_zscore  \n",
      "0         12.0    70     US   -2.664308  \n",
      "1         11.5    70     US   -0.921078  \n",
      "2         11.0    70     US   -2.664308  \n",
      "3         12.0    70     US   -0.804863  \n",
      "4         10.5    70     US   -0.688647  \n"
     ]
    }
   ],
   "source": [
    "# Remove outliers from the dataset using the IQR method\n",
    "\n",
    "# Keep only rows within the IQR bounds\n",
    "df_cars_no_outliers = df_cars[(df_cars['MPG'] >= lower) & (df_cars['MPG'] <= upper)]\n",
    "print(f\"Rows after removing outliers: {df_cars_no_outliers.shape[0]}\")\n",
    "print(df_cars_no_outliers.head())"
   ]
  }
 ],
 "metadata": {
  "kernelspec": {
   "display_name": "Python 3",
   "language": "python",
   "name": "python3"
  },
  "language_info": {
   "codemirror_mode": {
    "name": "ipython",
    "version": 3
   },
   "file_extension": ".py",
   "mimetype": "text/x-python",
   "name": "python",
   "nbconvert_exporter": "python",
   "pygments_lexer": "ipython3",
   "version": "3.13.3"
  },
  "orig_nbformat": 4
 },
 "nbformat": 4,
 "nbformat_minor": 2
}
